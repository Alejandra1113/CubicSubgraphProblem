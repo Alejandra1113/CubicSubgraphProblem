{
 "cells": [
  {
   "cell_type": "code",
   "execution_count": 2,
   "metadata": {},
   "outputs": [],
   "source": [
    "import numpy as np\n",
    "import Reduction\n",
    "import Generador\n",
    "import GeneticColor\n",
    "import GeneticCubic\n",
    "import Backtrack3Coloreable"
   ]
  },
  {
   "cell_type": "code",
   "execution_count": 3,
   "metadata": {},
   "outputs": [],
   "source": [
    "_, g1 = Generador.ConnexGraphGenerator(6)"
   ]
  },
  {
   "cell_type": "code",
   "execution_count": 4,
   "metadata": {},
   "outputs": [
    {
     "data": {
      "text/plain": [
       "array([[0, 1, 0, 0, 1, 1],\n",
       "       [1, 0, 1, 1, 1, 0],\n",
       "       [0, 1, 0, 1, 1, 1],\n",
       "       [0, 1, 1, 0, 1, 1],\n",
       "       [1, 1, 1, 1, 0, 0],\n",
       "       [1, 0, 1, 1, 0, 0]])"
      ]
     },
     "execution_count": 4,
     "metadata": {},
     "output_type": "execute_result"
    }
   ],
   "source": [
    "g1"
   ]
  },
  {
   "cell_type": "code",
   "execution_count": 5,
   "metadata": {},
   "outputs": [
    {
     "name": "stdout",
     "output_type": "stream",
     "text": [
      "Generation:  500 Best_Fitness:  1 Individual:  [3, 2, 3, 3, 1, 1]\n",
      "Generation:  1000 Best_Fitness:  1 Individual:  [3, 2, 3, 2, 1, 1]\n",
      "Generation:  1500 Best_Fitness:  1 Individual:  [3, 2, 3, 3, 1, 1]\n",
      "Generation:  2000 Best_Fitness:  1 Individual:  [3, 2, 3, 3, 1, 1]\n",
      "Generation:  2500 Best_Fitness:  1 Individual:  [3, 2, 3, 3, 1, 1]\n",
      "Generation:  3000 Best_Fitness:  1 Individual:  [3, 2, 3, 3, 1, 1]\n",
      "Using  3  colors : \n",
      "Generation:  3000 Best_Fitness:  1 Individual:  [3, 2, 3, 3, 1, 1]\n",
      "\n",
      "\n",
      "\n"
     ]
    }
   ],
   "source": [
    "is_coloreable = GeneticColor.genetic_coloro(g1)"
   ]
  },
  {
   "cell_type": "code",
   "execution_count": 9,
   "metadata": {},
   "outputs": [
    {
     "name": "stdout",
     "output_type": "stream",
     "text": [
      "False\n"
     ]
    }
   ],
   "source": [
    "print(is_coloreable)"
   ]
  },
  {
   "cell_type": "code",
   "execution_count": 10,
   "metadata": {},
   "outputs": [],
   "source": [
    "edges = []\n",
    "for u in range(g1.shape[0]):\n",
    "    for v in range(u, g1.shape[0]):\n",
    "        if u == v:\n",
    "            continue\n",
    "        edges.append((u,v))"
   ]
  },
  {
   "cell_type": "code",
   "execution_count": 11,
   "metadata": {},
   "outputs": [
    {
     "data": {
      "text/plain": [
       "False"
      ]
     },
     "execution_count": 11,
     "metadata": {},
     "output_type": "execute_result"
    }
   ],
   "source": [
    "Backtrack3Coloreable.ThreeColorable(6, edges)"
   ]
  },
  {
   "cell_type": "code",
   "execution_count": 12,
   "metadata": {},
   "outputs": [],
   "source": [
    "_, g2 = Generador.ConnexGraphGenerator(6)"
   ]
  },
  {
   "cell_type": "code",
   "execution_count": 13,
   "metadata": {},
   "outputs": [
    {
     "data": {
      "text/plain": [
       "False"
      ]
     },
     "execution_count": 13,
     "metadata": {},
     "output_type": "execute_result"
    }
   ],
   "source": [
    "edges = []\n",
    "for u in range(g1.shape[0]):\n",
    "    for v in range(u, g1.shape[0]):\n",
    "        if u == v:\n",
    "            continue\n",
    "        edges.append((u,v))\n",
    "Backtrack3Coloreable.ThreeColorable(6, edges)"
   ]
  },
  {
   "cell_type": "code",
   "execution_count": 14,
   "metadata": {},
   "outputs": [
    {
     "name": "stdout",
     "output_type": "stream",
     "text": [
      "Generation:  500 Best_Fitness:  1 Individual:  [3, 2, 1, 1, 3, 2]\n",
      "Generation:  1000 Best_Fitness:  1 Individual:  [3, 2, 1, 1, 3, 2]\n",
      "Generation:  1500 Best_Fitness:  1 Individual:  [3, 2, 1, 1, 3, 2]\n",
      "Generation:  2000 Best_Fitness:  1 Individual:  [3, 2, 1, 1, 3, 2]\n",
      "Generation:  2500 Best_Fitness:  1 Individual:  [3, 2, 1, 1, 3, 2]\n",
      "Generation:  3000 Best_Fitness:  1 Individual:  [3, 2, 1, 1, 3, 2]\n",
      "Using  3  colors : \n",
      "Generation:  3000 Best_Fitness:  1 Individual:  [3, 2, 1, 1, 3, 2]\n",
      "\n",
      "\n",
      "\n"
     ]
    },
    {
     "data": {
      "text/plain": [
       "False"
      ]
     },
     "execution_count": 14,
     "metadata": {},
     "output_type": "execute_result"
    }
   ],
   "source": [
    "GeneticColor.genetic_coloro(g2)"
   ]
  },
  {
   "cell_type": "code",
   "execution_count": 15,
   "metadata": {},
   "outputs": [
    {
     "data": {
      "text/plain": [
       "array([[0, 1, 0, 1],\n",
       "       [1, 0, 1, 0],\n",
       "       [0, 1, 0, 0],\n",
       "       [1, 0, 0, 0]])"
      ]
     },
     "execution_count": 15,
     "metadata": {},
     "output_type": "execute_result"
    }
   ],
   "source": [
    "_, g3 = Generador.ConnexGraphGenerator(4)\n",
    "g3"
   ]
  },
  {
   "cell_type": "code",
   "execution_count": 21,
   "metadata": {},
   "outputs": [
    {
     "data": {
      "text/plain": [
       "False"
      ]
     },
     "execution_count": 21,
     "metadata": {},
     "output_type": "execute_result"
    }
   ],
   "source": [
    "edges = []\n",
    "for u in range(g3.shape[0]):\n",
    "    for v in range(u, g3.shape[0]):\n",
    "        if u == v:\n",
    "            continue\n",
    "        edges.append((u,v))\n",
    "Backtrack3Coloreable.ThreeColorable(4, edges)"
   ]
  },
  {
   "cell_type": "code",
   "execution_count": 19,
   "metadata": {},
   "outputs": [
    {
     "name": "stdout",
     "output_type": "stream",
     "text": [
      "Using  3  colors : \n",
      "Generation:  1 Best_Fitness:  0 Individual:  [3, 1, 2, 2]\n",
      "\n",
      "\n",
      "\n"
     ]
    },
    {
     "data": {
      "text/plain": [
       "True"
      ]
     },
     "execution_count": 19,
     "metadata": {},
     "output_type": "execute_result"
    }
   ],
   "source": [
    "GeneticColor.genetic_coloro(g3)"
   ]
  },
  {
   "cell_type": "code",
   "execution_count": 24,
   "metadata": {},
   "outputs": [],
   "source": [
    "new_n, edges_trans = Reduction.Reduction(4,edges)"
   ]
  },
  {
   "cell_type": "code",
   "execution_count": 25,
   "metadata": {},
   "outputs": [
    {
     "data": {
      "text/plain": [
       "array([[0., 1., 0., ..., 0., 0., 0.],\n",
       "       [1., 0., 1., ..., 0., 0., 0.],\n",
       "       [0., 1., 0., ..., 0., 0., 0.],\n",
       "       ...,\n",
       "       [0., 0., 0., ..., 0., 0., 1.],\n",
       "       [0., 0., 0., ..., 0., 0., 0.],\n",
       "       [0., 0., 0., ..., 1., 0., 0.]])"
      ]
     },
     "execution_count": 25,
     "metadata": {},
     "output_type": "execute_result"
    }
   ],
   "source": [
    "z = np.zeros((new_n,new_n))\n",
    "for u,v in edges_trans:\n",
    "    z[u][v] = z[v][u] = 1\n",
    "z"
   ]
  },
  {
   "cell_type": "code",
   "execution_count": null,
   "metadata": {},
   "outputs": [],
   "source": [
    "GeneticCubic.genetic_algo(z)"
   ]
  }
 ],
 "metadata": {
  "kernelspec": {
   "display_name": "base",
   "language": "python",
   "name": "python3"
  },
  "language_info": {
   "codemirror_mode": {
    "name": "ipython",
    "version": 3
   },
   "file_extension": ".py",
   "mimetype": "text/x-python",
   "name": "python",
   "nbconvert_exporter": "python",
   "pygments_lexer": "ipython3",
   "version": "3.9.13"
  },
  "orig_nbformat": 4
 },
 "nbformat": 4,
 "nbformat_minor": 2
}
